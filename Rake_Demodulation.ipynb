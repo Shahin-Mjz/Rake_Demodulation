{
 "cells": [
  {
   "cell_type": "markdown",
   "id": "b1cfb267-070d-44e1-af7e-5e74d4b1da99",
   "metadata": {},
   "source": [
    "$\\newline$\n",
    "$\\newline$\n",
    "$\\newline$\n",
    "$\\newline$\n",
    "\n",
    "\n",
    "<center>$\\Large{\\color{green}{\\bf{Rake \\; Demodulataion}}}$</center>\n",
    "\n",
    "\n",
    "$\\newline$\n",
    "$\\newline$\n",
    "$\\newline$\n",
    "$\\newline$"
   ]
  },
  {
   "cell_type": "markdown",
   "id": "8261e242-a67b-48ae-8f65-751295f6cea3",
   "metadata": {},
   "source": [
    "$\\newline$\n",
    "$\\newline$\n",
    "\n",
    "\n",
    "##### ${\\color{blue}{\\; \\; \\; \\; \\; \\text{Necessary Functions:}}}$\n",
    "\n",
    "\n",
    "$\\newline$\n",
    "$\\newline$"
   ]
  },
  {
   "cell_type": "code",
   "execution_count": 1,
   "id": "42b57bfc-5d10-45b6-a311-ec3795d30740",
   "metadata": {},
   "outputs": [],
   "source": [
    "import numpy as np\n",
    "from termcolor import colored\n",
    "import matplotlib.pyplot as plt"
   ]
  },
  {
   "cell_type": "code",
   "execution_count": 2,
   "id": "24bbad35-60fa-49d2-aaa3-98bc1f8e4252",
   "metadata": {},
   "outputs": [],
   "source": [
    "def an_Generator(num_messages: int, k: int=1) -> np.array:\n",
    "\n",
    "    np.random.seed(0)\n",
    "    out_seq = np.random.randint(low=0, high=2, size=(1, num_messages*k), dtype=int)\n",
    "    out_seq = out_seq.flatten()\n",
    "    \n",
    "    return out_seq"
   ]
  },
  {
   "cell_type": "markdown",
   "id": "9ac9baa3-eb2c-49cd-8211-377fadd7b080",
   "metadata": {},
   "source": [
    "$\\newline$\n",
    "$\\newline$\n",
    "\n",
    "$\\color{}{\\text{For }BPSK\\text{ Modulation:}}$\n",
    "\n",
    "$\\newline$\n",
    "$\\newline$\n",
    "\n",
    "<center>$s(t) \\; = \\; Re[ \\; g(t) \\; e^{j \\frac{2\\pi(m - 1)}{M}} \\; e^{j 2 \\pi f_{c} t} \\; ] \\; = \\; Re[ \\; g(t) \\; e^{j 2 \\pi (f_{c}t + \\frac{m - 1}{M})} \\; ]\\; = \\; Re[ \\; g(t) \\; e^{j 2 \\pi (f_{c}t + \\phi(m))} \\; ]$</center>\n",
    "\n",
    "$\\newline$\n",
    "$\\newline$\n",
    "\n",
    "<center>$\\color{}{\\left \\{ \\begin{array}{ll}  \\phi(m=2) = \\pi \\\\ \\phi(m=1) = 0 \\end{array} \\; \\right.}\\color{}{\\Rightarrow} \\; \\color{}{a_{n} \\; \\rightarrow \\; m_{array} \\;} \\; \\color{}{\\Rightarrow} \\; \\color{}{\\left \\{ \\begin{array}{ll}  a_{n}:0 \\rightarrow m:2 \\\\ a_{n}:1 \\rightarrow m:1 \\end{array} \\; \\right.}$</center>\n",
    "\n",
    "$\\newline$\n",
    "$\\newline$"
   ]
  },
  {
   "cell_type": "code",
   "execution_count": 3,
   "id": "39785511-9638-44ef-bc13-47a11945fdc9",
   "metadata": {},
   "outputs": [],
   "source": [
    "def m_Generator(an: np.array) -> np.array: # In is a list of ms\n",
    "\n",
    "    In = -(an - 2)\n",
    "    In.dtype = int\n",
    "\n",
    "    return In"
   ]
  },
  {
   "cell_type": "markdown",
   "id": "560fde99-5754-4f9d-ab48-b0e250c5ea0e",
   "metadata": {},
   "source": [
    "$\\newline$\n",
    "$\\newline$\n",
    "\n",
    "\n",
    "$\\color{}{\\text{For rectangular pulse shpe:}}$\n",
    "\n",
    "\n",
    "<center>$\\color{}{\\varepsilon_{g}\\; = \\; \\int_{-\\infty}^{+\\infty}g^{2}(t)\\; dt \\; = \\; \\int_{0}^{T}A^{2} \\; dt \\; = \\; A^{2}T \\; \\Rightarrow \\; \\varepsilon_{g} \\; = \\; A^{2}T \\; \\Rightarrow \\; A \\; = \\; \\sqrt{\\frac{\\varepsilon_{g}}{T}}}$</center>\n",
    "\n",
    "\n",
    "\n",
    "$\\newline$\n",
    "$\\newline$"
   ]
  },
  {
   "cell_type": "code",
   "execution_count": 4,
   "id": "7b3d5584-5788-48f9-9d02-51d261bfe440",
   "metadata": {},
   "outputs": [],
   "source": [
    "def g_Rect_Generator(t_array: np.array, Eg: float, T: float) -> np.array:  # Eg: Energy of the g(t)\n",
    "\n",
    "    A = np.sqrt(Eg / T)\n",
    "    \n",
    "    g_t = np.zeros_like(t_array)\n",
    "    g_t[(0 <= t_array) & (t_array <= T)] = A\n",
    "    \n",
    "    \n",
    "    return g_t"
   ]
  },
  {
   "cell_type": "code",
   "execution_count": 5,
   "id": "e159ebf3-ed10-46dd-87f9-24e09d86668b",
   "metadata": {},
   "outputs": [],
   "source": [
    "Eg = 1\n",
    "Eg = float(Eg)\n",
    "T = 1 # T is Symbol Duration.\n",
    "T = float(T)\n",
    "A = np.sqrt(Eg / T)\n",
    "t_array = np.arange(start=-5, stop=10, step=0.01)\n",
    "g_t_array = g_Rect_Generator(t_array=t_array, Eg=Eg, T=T)"
   ]
  },
  {
   "cell_type": "code",
   "execution_count": 6,
   "id": "fc69cb9b-7087-4eaf-8e1d-90437d4f878a",
   "metadata": {},
   "outputs": [
    {
     "data": {
      "image/png": "[encoded data removed]",
      "text/plain": [
       "<Figure size 640x480 with 1 Axes>"
      ]
     },
     "metadata": {},
     "output_type": "display_data"
    }
   ],
   "source": [
    "color='green'\n",
    "x_tick_positions_list = [0, T]\n",
    "x_tick_labels_list = ['0', 'T']\n",
    "y_tick_positions_list = [0, A]\n",
    "y_tick_labels_list = ['0', 'A = ' + str(A)]\n",
    "plt.plot(t_array, g_t_array, color=color)\n",
    "plt.xticks(ticks=x_tick_positions_list, labels=x_tick_labels_list)\n",
    "plt.yticks(ticks=y_tick_positions_list, labels=y_tick_labels_list)\n",
    "plt.grid(True)\n",
    "plt.show()"
   ]
  },
  {
   "cell_type": "markdown",
   "id": "23f89444-be92-4e00-ae5e-6c311d946aa2",
   "metadata": {},
   "source": [
    "$\\newline$\n",
    "$\\newline$\n",
    "\n",
    "\n",
    "##### ${\\color{blue}{\\; \\; \\; \\; \\; \\text{BPSK Modulation:}}}$\n",
    "\n",
    "\n",
    "$\\newline$\n",
    "$\\newline$"
   ]
  },
  {
   "cell_type": "markdown",
   "id": "4b0caf8a-133b-4e86-b28a-6f3db42cd2e5",
   "metadata": {},
   "source": [
    "$\\newline$\n",
    "$\\newline$\n",
    "\n",
    "\n",
    "$\\color{}{\\text{For }BPSK\\text{ Modulation:}}$\n",
    "\n",
    "$\\newline$\n",
    "$\\newline$\n",
    "\n",
    "<center>$\\color{}{s_{m}(t) \\; = \\; g(t) \\cos 2\\pi [f_{c}t + \\frac{m - 1}{M = 2}]}$</center>\n",
    "\n",
    "$\\newline$\n",
    "$\\newline$"
   ]
  },
  {
   "cell_type": "code",
   "execution_count": 7,
   "id": "0792dbe8-b35c-4b25-af07-ada894a1971c",
   "metadata": {},
   "outputs": [],
   "source": [
    "def S_m_Generator(an: np.array, Eg: float, T: float, fc: float=1e3, M: int=2) -> np.array:\n",
    "\n",
    "    if fc != 0:\n",
    "        step = 0.01 * (1/fc) # step << 1/fc\n",
    "    else:\n",
    "        step = 0.01\n",
    "        \n",
    "    t_array = np.arange(start=0, stop=T, step=step)\n",
    "    m_array = m_Generator(an=an)\n",
    "    g_t_array = g_Rect_Generator(t_array=t_array, Eg=Eg, T=T)\n",
    "    s_m_list = []\n",
    "    s_l_list = []\n",
    "    t_list = []\n",
    "    fixed_exp = np.exp(1j*2*np.pi*fc*t_array)\n",
    "    for i, m in enumerate(m_array):\n",
    "\n",
    "        variable_phase = (m - 1) / M\n",
    "        s_l_symbol = g_t_array * np.exp(1j*2*np.pi*(m-1)/M)\n",
    "        s_m_symbol = np.real(s_l_symbol*fixed_exp)\n",
    "        s_l_list.extend(s_l_symbol)\n",
    "        s_m_list.extend(s_m_symbol)\n",
    "        t_list.extend(i*T + t_array)\n",
    "\n",
    "    s_l_array = np.array(s_l_list)\n",
    "    s_m_array = np.array(s_m_list)\n",
    "    T_array = t_array\n",
    "    \n",
    "    return s_l_array, s_m_array, np.array(t_list), T_array, step"
   ]
  },
  {
   "cell_type": "code",
   "execution_count": 8,
   "id": "e4bc0d6b-e032-4c17-8630-cfc42ef24044",
   "metadata": {},
   "outputs": [],
   "source": [
    "num_symbols = 5\n",
    "an = an_Generator(num_messages=num_symbols)\n",
    "m_array = m_Generator(an=an)\n",
    "T = 1\n",
    "T = float(T)\n",
    "Eg = 1\n",
    "Eg = float(Eg)\n",
    "A = np.sqrt(Eg / T)\n",
    "fc = 2\n",
    "fc = float(fc)\n",
    "s_l_t_array, s_m_t_array, t_array, T_array, step = S_m_Generator(an=an, Eg=Eg, T=T, fc=fc)"
   ]
  },
  {
   "cell_type": "code",
   "execution_count": 9,
   "id": "3b92f793-1287-43b9-85a6-b88732e3ed35",
   "metadata": {},
   "outputs": [
    {
     "data": {
      "image/png": "[encoded data removed]",
      "text/plain": [
       "<Figure size 2000x500 with 1 Axes>"
      ]
     },
     "metadata": {},
     "output_type": "display_data"
    }
   ],
   "source": [
    "color1 = 'green'\n",
    "color2 = 'red'\n",
    "color3 = 'black'\n",
    "color4 = 'blue'\n",
    "plt.figure(figsize=(20, 5))\n",
    "plt.plot(t_array, np.real(s_l_t_array), color=color4, label='$Re\\{S_{l}(t)\\}$')\n",
    "plt.plot(t_array, s_m_t_array, color=color1, label='$S_{m}(t)$')\n",
    "y_tick_positions_list = [-A, 0, A]\n",
    "y_tick_labels_list = ['-A = ' + str(-A), '0', 'A = ' + str(A)]\n",
    "x_tick_labels_list = ['t = 0']\n",
    "x_tick_positions_list = [0]\n",
    "for i in range(num_symbols):\n",
    "    plt.axvline(x=i*T, color=color2, linestyle='--')\n",
    "    x_tick_positions_list.append((i + 1)*T)\n",
    "    x_tick_labels_list.append(str(int((i + 1)*T)) + 'T')\n",
    "    plt.text((i + 0.42)*T, A + 0.02, f'm = {m_array[i]}', fontsize=9, color=color3, fontweight='bold')\n",
    "    plt.text((i + 0.41)*T, A + 0.1, f'a{i + 1} = {an[i]}', fontsize=9, color=color3, fontweight='bold')\n",
    "\n",
    "plt.grid(True)\n",
    "plt.xticks(ticks=x_tick_positions_list, labels=x_tick_labels_list)\n",
    "plt.yticks(ticks=y_tick_positions_list, labels=y_tick_labels_list)\n",
    "plt.axis([-0.5*T, (num_symbols + 0.5)*T, -(A + 0.5), (A + 0.5)])\n",
    "plt.legend()\n",
    "plt.show()"
   ]
  },
  {
   "cell_type": "markdown",
   "id": "8334bf41-4dd9-4bad-a249-f13abbae4a71",
   "metadata": {},
   "source": [
    "$\\newline$\n",
    "$\\newline$\n",
    "\n",
    "\n",
    "##### ${\\color{blue}{\\; \\; \\; \\; \\; \\text{Tapped-Delay-Line Channel Model:}}}$\n",
    "\n",
    "\n",
    "$\\newline$\n",
    "$\\newline$"
   ]
  },
  {
   "cell_type": "markdown",
   "id": "b91abac4-ebb5-4a4f-8f33-aa5c8aa0982c",
   "metadata": {},
   "source": [
    "$\\newline$\n",
    "$\\newline$\n",
    "\n",
    "$\\color{}{\\text{When the }{c_{n}(t)}\\text{ are Gaussian random processes, they are statistically independent.}}$\n",
    "\n",
    "$\\newline$\n",
    "$\\newline$\n",
    "\n",
    "<center>$\\color{}{\\; \\Rightarrow \\; {c_{n}(t)} \\sim \\mathcal{N}(\\mu, \\sigma^{2}), (iid)} \\; \\Rightarrow \\;  \\color{}{{\\left \\{ \\begin{array}{ll}  Re\\{c_{n}(t)\\} \\sim \\frac{\\sqrt{2}}{2}\\mathcal{N}(\\mu, \\sigma^{2}) \\\\ Im\\{c_{n}(t)\\} \\sim \\frac{\\sqrt{2}}{2}\\mathcal{N}(\\mu, \\sigma^{2}) \\; \\end{array} \\right.}} \\; \\xrightarrow{\\; if \\; \\sigma^{2} = 1 , \\; \\mu = 0\\;} \\; \\color{}{{\\left \\{ \\begin{array}{ll}  Re\\{c_{n}(t)\\} \\sim \\frac{\\sqrt{2}}{2}\\mathcal{N}(0, 1) \\\\ Im\\{c_{n}(t)\\} \\sim \\frac{\\sqrt{2}}{2}\\mathcal{N}(0, 1) \\; \\end{array} \\right.}}$</center>\n",
    "\n",
    "$\\newline$\n",
    "$\\newline$\n",
    "\n",
    "<center>$\\mu_{c_{n}(t)} = \\mu_{Re\\{ c_{n}(t) \\}} + j \\mu_{Im\\{ c_{n}(t) \\}}$</center>\n",
    "\n",
    "$\\newline$\n",
    "$\\newline$\n",
    "\n",
    "<center>$\\sigma^{2}_{c_{n}(t)} = \\sigma^{2}_{Re\\{ c_{n}(t) \\}} +  \\sigma^{2}_{Im\\{ c_{n}(t) \\}}$</center>\n",
    "\n",
    "$\\newline$\n",
    "$\\newline$"
   ]
  },
  {
   "cell_type": "code",
   "execution_count": 10,
   "id": "4fb411b4-5fab-4ec9-8ea9-275ef117ba3a",
   "metadata": {},
   "outputs": [],
   "source": [
    "def c_t_Generator(n_t: int, mode: str, u: complex=0, sigma: float=1) -> dict: # sigma is standard deviation, n_t is the size of t_array\n",
    "\n",
    "    u_Re, u_Im = u.real, u.imag\n",
    "    c_dict = {}\n",
    "    if mode == 'static':\n",
    "        np.random.seed(0)\n",
    "\n",
    "    elif mode == 'dynamic':\n",
    "        pass\n",
    "        \n",
    "\n",
    "    random_array = np.random.randn(2, n_t) # randn is standard distribution\n",
    "    c_Re = (np.sqrt(2) / 2) * sigma * random_array[0] + u_Re\n",
    "    c_Im = (np.sqrt(2) / 2) * sigma * random_array[1] + u_Im\n",
    "    c_t_array = c_Re + 1j*c_Im\n",
    "\n",
    "    return c_t_array"
   ]
  },
  {
   "cell_type": "code",
   "execution_count": 11,
   "id": "6d18b2c2-303e-4034-9ce0-ce1c6c6cd870",
   "metadata": {},
   "outputs": [],
   "source": [
    "def z_t_Generator(n_t: int, mode: str, u: complex=0, sigma: float=1) -> np.array: # n_t is the size of the t_array, sigma is standard deviation\n",
    "\n",
    "    if mode == 'static':\n",
    "        np.random.seed(0)\n",
    "        \n",
    "    elif mode == 'dynamic':\n",
    "        pass\n",
    "        \n",
    "    u_Re, u_Im = u.real, u.imag\n",
    "    z_t_Re = (np.sqrt(2) / 2) * sigma * np.random.randn(n_t) + u_Re\n",
    "    z_t_Im = (np.sqrt(2) / 2) * sigma * np.random.randn(n_t) + u_Im\n",
    "    z_t_complex = z_t_Re + 1j * z_t_Im\n",
    "\n",
    "    return z_t_complex"
   ]
  },
  {
   "cell_type": "markdown",
   "id": "09931648-b8c8-4beb-9b36-8ffc4b6e3af2",
   "metadata": {},
   "source": [
    "$\\newline$\n",
    "$\\newline$\n",
    "\n",
    "$\\color{}{\\text{For received low pass signal we will have:}}$\n",
    "\n",
    "$\\newline$\n",
    "$\\newline$\n",
    "\n",
    "<center>$\\color{}{r_{l}(t) = [\\sum\\limits_{k = 1}^{L}c_{k}(t)s_{li}(t-\\frac{k}{W})] + z(t) \\;\\;\\;\\; \\stackrel{W = \\frac{1}{T}}{\\Rightarrow} \\;\\;\\;\\; [\\sum\\limits_{k = 1}^{L}c_{k}(t)s_{li}(t-kT)] + z(t)} = v_{i}(t) + z(t), \\;\\;\\;\\; 0 \\leq t \\leq T, \\;\\;\\;\\; i = 1, 2$</center>\n",
    "\n",
    "$\\newline$\n",
    "$\\newline$\n",
    "\n",
    "> ${\\color{red}{\\text{Note: }}}$\n",
    "> \n",
    ">>\n",
    ">> $\\color{}{T: \\; Symbol \\; Duration}$\n",
    ">>\n",
    ">> $\\color{}{W=\\frac{1}{T_{s}}: Sampling \\; Frequency}$\n",
    ">>\n",
    ">>\n",
    "\n",
    "\n",
    "$\\newline$\n",
    "$\\newline$"
   ]
  },
  {
   "cell_type": "code",
   "execution_count": 12,
   "id": "b0266fda-3651-4715-a79f-5920b0e200dc",
   "metadata": {},
   "outputs": [],
   "source": [
    "def Symbol_Right_Shifter(s_l_array: np.array, k: int) -> np.array:\n",
    "\n",
    "    n_T = len(s_l_array)\n",
    "    s_l_long_array = s_l_array\n",
    "    if k == 0:\n",
    "        s_l_shifted_array = s_l_array\n",
    "\n",
    "    else:\n",
    "        s_l_shifted_array = np.concatenate((np.zeros(k), s_l_array[:-k]))\n",
    "\n",
    "    return s_l_shifted_array"
   ]
  },
  {
   "cell_type": "code",
   "execution_count": 13,
   "id": "e83ae5f4-aaa7-4eca-97f1-e9088154fb49",
   "metadata": {},
   "outputs": [],
   "source": [
    "def v_i_t_Generator(s_l_t: np.array, L: int) -> np.array:\n",
    "\n",
    "    n_T = len(s_l_t)\n",
    "    c_k_t = c_t_Generator(n_t=n_T, mode='static')\n",
    "    out_array = np.zeros(n_T, dtype=complex)\n",
    "    for k in range(1, L+1):\n",
    "\n",
    "        s_l_t_k_nT = Symbol_Right_Shifter(s_l_array=s_l_t, k=k)\n",
    "        out_array += c_k_t * s_l_t_k_nT\n",
    "\n",
    "    return out_array"
   ]
  },
  {
   "cell_type": "code",
   "execution_count": 14,
   "id": "8b49b10f-3a57-4f6a-aba1-722aa16ef102",
   "metadata": {},
   "outputs": [],
   "source": [
    "def r_l_t_Generator(v_i_t_array: np.array) -> np.array:\n",
    "\n",
    "    n_t = len(v_i_t_array)\n",
    "    z_t_array = z_t_Generator(n_t=n_t, mode='static')\n",
    "    r_l_t_array = v_i_t_array + z_t_array\n",
    "\n",
    "    return r_l_t_array"
   ]
  },
  {
   "cell_type": "markdown",
   "id": "a1914f46-ea07-4fe3-9bc9-5695ad4c1014",
   "metadata": {},
   "source": [
    "$\\newline$\n",
    "$\\newline$\n",
    "\n",
    "\n",
    "##### ${\\color{blue}{\\; \\; \\; \\; \\; \\text{Rake Demodulator:}}}$\n",
    "\n",
    "\n",
    "$\\newline$\n",
    "$\\newline$"
   ]
  },
  {
   "cell_type": "markdown",
   "id": "c46489c6-2f72-4635-b99c-2faa6498882c",
   "metadata": {},
   "source": [
    "$\\newline$\n",
    "$\\newline$\n",
    "\n",
    "> $\\color{red}{\\text{Note:}}$\n",
    ">>\n",
    ">> $\\color{}{\\text{At first, we assume that the }c_{k}(t)\\text{ is known and with this assumption, we will have the following:}}$\n",
    "\n",
    "$\\newline$\n",
    "$\\newline$"
   ]
  },
  {
   "cell_type": "code",
   "execution_count": 15,
   "id": "4edbb663-6da5-47f1-b01c-756eed1b60b4",
   "metadata": {},
   "outputs": [],
   "source": [
    "num_symbols = 5\n",
    "an = an_Generator(num_messages=num_symbols)\n",
    "m_array = m_Generator(an=an)\n",
    "T = 1\n",
    "T = float(T)\n",
    "Eg = 1\n",
    "Eg = float(Eg)\n",
    "fc = 2\n",
    "fc = float(fc)\n",
    "s_l_t_array, s_m_t_array, t_array, T_array, step = S_m_Generator(an=an, Eg=Eg, T=T, fc=fc)"
   ]
  },
  {
   "cell_type": "code",
   "execution_count": 16,
   "id": "e7649f8f-8ab1-46eb-a1fa-b2b0a3e88d83",
   "metadata": {},
   "outputs": [],
   "source": [
    "M = 2\n",
    "m1 = 1\n",
    "m2 = 2\n",
    "L = 10\n",
    "g_t = g_Rect_Generator(t_array=T_array, Eg=Eg, T=T)\n",
    "s_l_1 = g_t * np.exp(1j*2*np.pi*(m1 - 1)/M)\n",
    "s_l_2 = g_t * np.exp(1j*2*np.pi*(m2 - 1)/M)\n",
    "v_1 = v_i_t_Generator(s_l_t=s_l_1, L=L)\n",
    "v_2 = v_i_t_Generator(s_l_t=s_l_2, L=L)\n",
    "r_l_1 = r_l_t_Generator(v_i_t_array=v_1)\n",
    "r_l_2 = r_l_t_Generator(v_i_t_array=v_2)"
   ]
  },
  {
   "cell_type": "markdown",
   "id": "b20d0f25-26a1-4ba9-a8fe-ce4076d20e64",
   "metadata": {},
   "source": [
    "$\\newline$\n",
    "$\\newline$\n",
    "\n",
    "<center>$\\color{}{U_{m} = Re[ \\; \\int_{0}^{T}r_{l}(t)v_{m}^{*}(t) \\; dt \\; ] = Re[ \\; \\sum\\limits_{k = 1}^{L}  \\int_{0}^{T} r_{l}(t) c_{k}^{*}(t) s_{m}^{*}(t - \\frac{k}{W}) \\; ]}$</center>\n",
    "\n",
    "$\\newline$\n",
    "$\\newline$"
   ]
  },
  {
   "cell_type": "code",
   "execution_count": 17,
   "id": "f22cf10e-815c-4d89-b81b-2ddd8af50f74",
   "metadata": {},
   "outputs": [],
   "source": [
    "def Um_Generator(r_l_t: np.array, T_array: np.array, Eg: float, T: float, L: int, step: float, mode: str) -> dict:\n",
    "\n",
    "    n_t = len(T_array)\n",
    "    n_r = len(r_l_t)\n",
    "    if n_t != n_r:\n",
    "        raise ValueError(f'Shape of the r_l_t and T array must be equal, r_l_t.shape = {r_l_t.shape}, T_array.shape = {T_array.shape}')\n",
    "        \n",
    "    g_t = g_Rect_Generator(t_array=T_array, Eg=Eg, T=T)\n",
    "    M, m1, m2 = 2, 1, 2\n",
    "    s_l_1 = g_t * np.exp(1j*2*np.pi*(m1 - 1)/M)\n",
    "    s_l_2 = g_t * np.exp(1j*2*np.pi*(m2 - 1)/M)\n",
    "    c_k_t = c_t_Generator(n_t=n_t, mode=mode)\n",
    "    v_1 = v_i_t_Generator(s_l_t=s_l_1, L=L)\n",
    "    v_2 = v_i_t_Generator(s_l_t=s_l_2, L=L)\n",
    "\n",
    "    U_dict = {}\n",
    "    U1 = (step * (r_l_t * np.conj(v_1)).sum()).real\n",
    "    U2 = (step * (r_l_t * np.conj(v_2)).sum()).real\n",
    "    U_dict['U1'], U_dict['U2'] = U1, U2\n",
    "\n",
    "    return U_dict"
   ]
  },
  {
   "cell_type": "code",
   "execution_count": 18,
   "id": "2988365d-d644-472a-8627-9a7342274549",
   "metadata": {},
   "outputs": [],
   "source": [
    "mode = 'static'\n",
    "Um_for_r_l_1 = Um_Generator(r_l_t=r_l_1, T_array=T_array, Eg=Eg, T=T, L=L, step=step, mode=mode)\n",
    "Um_for_r_l_2 = Um_Generator(r_l_t=r_l_2, T_array=T_array, Eg=Eg, T=T, L=L, step=step, mode=mode)"
   ]
  },
  {
   "cell_type": "code",
   "execution_count": 19,
   "id": "9d3b1d7d-24f2-4d1c-97d8-6ea4afcc6fd3",
   "metadata": {},
   "outputs": [
    {
     "name": "stdout",
     "output_type": "stream",
     "text": [
      "\n",
      "\u001b[1m\u001b[34mWhen we transmit the s1,2 and receive receive r1,2:\u001b[0m\n",
      "\n",
      "\n",
      " \u001b[1m\u001b[30mr1: U1 =  102.81, U2 = -102.81\u001b[0m \n",
      "\n",
      "\n",
      " \u001b[1m\u001b[30mr2: U1 = -83.95, U2 =  83.95\u001b[0m \n",
      "\n"
     ]
    }
   ],
   "source": [
    "print(f'\\n{colored(f\"When we transmit the s1,2 and receive receive r1,2:\", \"blue\", attrs=[\"bold\"])}\\n')\n",
    "U1, U2 = Um_for_r_l_1['U1'], Um_for_r_l_1['U2']\n",
    "print(f'\\n {colored(f\"r1: U1 = {U1: 0.2f}, U2 = {U2: 0.2f}\", \"black\", attrs=[\"bold\"])} \\n')\n",
    "\n",
    "U1, U2 = Um_for_r_l_2['U1'], Um_for_r_l_2['U2']\n",
    "print(f'\\n {colored(f\"r2: U1 = {U1: 0.2f}, U2 = {U2: 0.2f}\", \"black\", attrs=[\"bold\"])} \\n')"
   ]
  },
  {
   "cell_type": "markdown",
   "id": "a5e71c63-7165-47c2-bc2a-3e6ba5156630",
   "metadata": {},
   "source": [
    "$\\newline$\n",
    "$\\newline$\n",
    "> $\\color{red}{\\bf{Conclusion:}}$\n",
    ">> \n",
    ">> $\\color{}{\\text{As we can see demodulation done correctly}}$\n",
    "\n",
    "$\\newline$\n",
    "$\\newline$"
   ]
  },
  {
   "cell_type": "markdown",
   "id": "27731ad0-d46b-485d-83a9-a2bbb6b5edec",
   "metadata": {},
   "source": [
    "$\\newline$\n",
    "$\\newline$\n",
    "\n",
    "\n",
    "##### ${\\color{blue}{\\; \\; \\; \\; \\; \\bf{\\text{Exploring the }L\\text{ (No. of taps or fingers):}}}}$\n",
    "\n",
    "\n",
    "$\\newline$\n",
    "$\\newline$"
   ]
  },
  {
   "cell_type": "code",
   "execution_count": 20,
   "id": "0d857511-e945-4bb1-a89a-2d648925ac74",
   "metadata": {},
   "outputs": [],
   "source": [
    "num_symbols = 5\n",
    "an = an_Generator(num_messages=num_symbols)\n",
    "m_array = m_Generator(an=an)\n",
    "T = 1\n",
    "T = float(T)\n",
    "Eg = 1\n",
    "Eg = float(Eg)\n",
    "fc = 2\n",
    "fc = float(fc)\n",
    "s_l_t_array, s_m_t_array, t_array, T_array, step = S_m_Generator(an=an, Eg=Eg, T=T, fc=fc)"
   ]
  },
  {
   "cell_type": "code",
   "execution_count": 22,
   "id": "190785fd-1507-4790-b773-1a4813d5342c",
   "metadata": {},
   "outputs": [],
   "source": [
    "mode = 'static'\n",
    "L_list = list(range(1, 21))\n",
    "out_r1_list = []\n",
    "out_r2_list = []\n",
    "L_ticks_list = []\n",
    "for L in L_list:\n",
    "\n",
    "    L_ticks_list.append(f'L = {L}')\n",
    "    \n",
    "    Um_for_r_l_1 = Um_Generator(r_l_t=r_l_1, T_array=T_array, Eg=Eg, T=T, L=L, step=step, mode=mode)\n",
    "    out_r1_list.append(Um_for_r_l_1['U1'] - Um_for_r_l_1['U2'])\n",
    "    \n",
    "    Um_for_r_l_2 = Um_Generator(r_l_t=r_l_2, T_array=T_array, Eg=Eg, T=T, L=L, step=step, mode=mode)\n",
    "    out_r2_list.append(Um_for_r_l_2['U2'] - Um_for_r_l_2['U1'])"
   ]
  },
  {
   "cell_type": "code",
   "execution_count": 23,
   "id": "14f13e7a-c659-43ac-a14d-71554386d8d0",
   "metadata": {},
   "outputs": [
    {
     "data": {
      "image/png": "[encoded data removed]",
      "text/plain": [
       "<Figure size 2000x1000 with 2 Axes>"
      ]
     },
     "metadata": {},
     "output_type": "display_data"
    }
   ],
   "source": [
    "color = 'blue'\n",
    "plt.figure(figsize=(20, 10))\n",
    "\n",
    "plt.subplot(2, 1, 1)\n",
    "plt.plot(L_list, out_r1_list, color=color)\n",
    "plt.xticks(ticks=L_list, labels=L_ticks_list), plt.yticks([]), plt.ylabel('$D$'), plt.title('Distance between $U_{1}, U_{2}$ for $r_{1}(t)$', fontsize=11, fontweight=\"bold\")\n",
    "plt.grid(True)\n",
    "\n",
    "plt.subplot(2, 1, 2)\n",
    "plt.plot(L_list, out_r2_list, color=color)\n",
    "plt.xticks(ticks=L_list, labels=L_ticks_list), plt.yticks([]), plt.ylabel('$D$'), plt.title('Distance between $U_{1}, U_{2}$ for $r_{2}(t)$', fontsize=11, fontweight=\"bold\")\n",
    "plt.grid(True)\n",
    "\n",
    "plt.show()"
   ]
  },
  {
   "cell_type": "markdown",
   "id": "7f8429fa-da64-43d1-8062-940ea88f129a",
   "metadata": {},
   "source": [
    "$\\newline$\n",
    "$\\newline$\n",
    "> $\\color{red}{\\bf{Conclusion:}}$\n",
    "> \n",
    ">>\n",
    ">> \n",
    ">> $\\color{}{\\text{When we assumed that the }c_{k}(t)\\text{ is known, as we can see increasing the }L\\text{ (No. Taps or fingers) parameter increases}}$\n",
    ">>\n",
    ">>\n",
    ">> $\\color{}{\\text{the distance between }U_{1}, \\; U_{2}\\text{ linearly, and decreasing the error probability will be probable.}}$\n",
    "\n",
    "\n",
    "$\\newline$\n",
    "$\\newline$"
   ]
  },
  {
   "cell_type": "markdown",
   "id": "c78e9b5a-c066-434b-8366-7154bff711a3",
   "metadata": {},
   "source": [
    "$\\newline$\n",
    "$\\newline$\n",
    "\n",
    "\n",
    "##### ${\\color{blue}{\\; \\; \\; \\; \\; \\text{Correlation Coefficient between Modulated Symbols }s_{m=1}, s_{m=2} :}}$\n",
    "\n",
    "\n",
    "$\\newline$\n",
    "$\\newline$"
   ]
  },
  {
   "cell_type": "code",
   "execution_count": 24,
   "id": "c3fd7305-1aa9-4480-ba4d-829a4ef77add",
   "metadata": {},
   "outputs": [],
   "source": [
    "num_symbols = 5\n",
    "an = an_Generator(num_messages=num_symbols)\n",
    "m_array = m_Generator(an=an)\n",
    "T = 1\n",
    "T = float(T)\n",
    "Eg = 1\n",
    "Eg = float(Eg)\n",
    "fc = 2\n",
    "fc = float(fc)\n",
    "s_l_t_array, s_m_t_array, t_array, T_array, step = S_m_Generator(an=an, Eg=Eg, T=T, fc=fc)"
   ]
  },
  {
   "cell_type": "code",
   "execution_count": 25,
   "id": "1bb78f87-2037-4049-b53b-aa8487acce0c",
   "metadata": {},
   "outputs": [],
   "source": [
    "n_t = len(T_array)\n",
    "s_m_t_1 = s_m_t_array[:n_t]\n",
    "s_m_t_2 = s_m_t_array[n_t:2*n_t]"
   ]
  },
  {
   "cell_type": "code",
   "execution_count": 27,
   "id": "fac694a5-6e85-4527-a108-a51d290eaf56",
   "metadata": {},
   "outputs": [
    {
     "name": "stdout",
     "output_type": "stream",
     "text": [
      "\n",
      "\u001b[1m\u001b[34mCorrelation Coefficient Matrix = \u001b[0m\n",
      "\n",
      "\u001b[1m\u001b[30m[[ 1. -1.]\n",
      " [-1.  1.]]\u001b[0m\n"
     ]
    }
   ],
   "source": [
    "corr_coef_mat = np.corrcoef(s_m_t_1, s_m_t_2)\n",
    "print(f'\\n{colored(f\"Correlation Coefficient Matrix = \", \"blue\", attrs=[\"bold\"])}')\n",
    "print(f'\\n{colored(f\"{corr_coef_mat}\", \"black\", attrs=[\"bold\"])}')"
   ]
  },
  {
   "cell_type": "markdown",
   "id": "099a2ecf-b00b-49e6-b6d1-01d9a5533c00",
   "metadata": {},
   "source": [
    "$\\newline$\n",
    "$\\newline$\n",
    "> $\\color{red}{\\bf{Conclusion:}}$\n",
    "> \n",
    ">>\n",
    ">> $\\color{}{\\Rightarrow \\rho_{r} = -1}$\n",
    "\n",
    "\n",
    "\n",
    "$\\newline$\n",
    "$\\newline$"
   ]
  },
  {
   "cell_type": "markdown",
   "id": "b1b46ea7-7ab5-446a-87b5-d0cb0fa099dd",
   "metadata": {},
   "source": [
    "$\\newline$\n",
    "$\\newline$\n",
    "\n",
    "\n",
    "##### ${\\color{blue}{\\; \\; \\; \\; \\; \\text{References:}}}$\n",
    "\n",
    "\n",
    "\n",
    "\n",
    "$\\newline$\n",
    "$\\newline$\n",
    "\n",
    "\n",
    "- <a name=''>${\\color{black}{\\bf{Book:}}} {\\text{ Proakis, John G. Digital Communications. 5th ed. New York: McGraw Hill, 2007.}}$</a>\n",
    "\n",
    "\n",
    "\n",
    "$\\newline$\n",
    "$\\newline$"
   ]
  }
 ],
 "metadata": {
  "kernelspec": {
   "display_name": "Python 3 (ipykernel)",
   "language": "python",
   "name": "python3"
  },
  "language_info": {
   "codemirror_mode": {
    "name": "ipython",
    "version": 3
   },
   "file_extension": ".py",
   "mimetype": "text/x-python",
   "name": "python",
   "nbconvert_exporter": "python",
   "pygments_lexer": "ipython3",
   "version": "3.11.4"
  }
 },
 "nbformat": 4,
 "nbformat_minor": 5
}
